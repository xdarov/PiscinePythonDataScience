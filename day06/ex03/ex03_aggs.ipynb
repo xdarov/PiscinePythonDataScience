{
 "cells": [
  {
   "cell_type": "code",
   "execution_count": 1,
   "id": "56284dd2",
   "metadata": {},
   "outputs": [],
   "source": [
    "import pandas as pd\n",
    "import sqlite3"
   ]
  },
  {
   "cell_type": "code",
   "execution_count": 2,
   "id": "df9d0b28",
   "metadata": {},
   "outputs": [],
   "source": [
    "db_connection = sqlite3.connect('../data/checking-logs.sqlite')"
   ]
  },
  {
   "cell_type": "code",
   "execution_count": 3,
   "id": "f5a90489",
   "metadata": {
    "scrolled": true
   },
   "outputs": [
    {
     "data": {
      "text/html": [
       "<div>\n",
       "<style scoped>\n",
       "    .dataframe tbody tr th:only-of-type {\n",
       "        vertical-align: middle;\n",
       "    }\n",
       "\n",
       "    .dataframe tbody tr th {\n",
       "        vertical-align: top;\n",
       "    }\n",
       "\n",
       "    .dataframe thead th {\n",
       "        text-align: right;\n",
       "    }\n",
       "</style>\n",
       "<table border=\"1\" class=\"dataframe\">\n",
       "  <thead>\n",
       "    <tr style=\"text-align: right;\">\n",
       "      <th></th>\n",
       "      <th>cid</th>\n",
       "      <th>name</th>\n",
       "      <th>type</th>\n",
       "      <th>notnull</th>\n",
       "      <th>dflt_value</th>\n",
       "      <th>pk</th>\n",
       "    </tr>\n",
       "  </thead>\n",
       "  <tbody>\n",
       "  </tbody>\n",
       "</table>\n",
       "</div>"
      ],
      "text/plain": [
       "Empty DataFrame\n",
       "Columns: [cid, name, type, notnull, dflt_value, pk]\n",
       "Index: []"
      ]
     },
     "execution_count": 3,
     "metadata": {},
     "output_type": "execute_result"
    }
   ],
   "source": [
    "pd.read_sql(sql='PRAGMA table_info(test);', con=db_connection)"
   ]
  },
  {
   "cell_type": "code",
   "execution_count": 4,
   "id": "26340f50",
   "metadata": {
    "scrolled": true
   },
   "outputs": [
    {
     "ename": "DatabaseError",
     "evalue": "Execution failed on sql 'SELECT * FROM test LIMIT 10;': no such table: test",
     "output_type": "error",
     "traceback": [
      "\u001b[0;31m---------------------------------------------------------------------------\u001b[0m",
      "\u001b[0;31mOperationalError\u001b[0m                          Traceback (most recent call last)",
      "File \u001b[0;32m~/Desktop/PiscinePythonDataScience/venv/lib/python3.10/site-packages/pandas/io/sql.py:2023\u001b[0m, in \u001b[0;36mSQLiteDatabase.execute\u001b[0;34m(self, *args, **kwargs)\u001b[0m\n\u001b[1;32m   <a href='file:///Users/pcorina/Desktop/PiscinePythonDataScience/venv/lib/python3.10/site-packages/pandas/io/sql.py?line=2021'>2022</a>\u001b[0m \u001b[39mtry\u001b[39;00m:\n\u001b[0;32m-> <a href='file:///Users/pcorina/Desktop/PiscinePythonDataScience/venv/lib/python3.10/site-packages/pandas/io/sql.py?line=2022'>2023</a>\u001b[0m     cur\u001b[39m.\u001b[39;49mexecute(\u001b[39m*\u001b[39;49margs, \u001b[39m*\u001b[39;49m\u001b[39m*\u001b[39;49mkwargs)\n\u001b[1;32m   <a href='file:///Users/pcorina/Desktop/PiscinePythonDataScience/venv/lib/python3.10/site-packages/pandas/io/sql.py?line=2023'>2024</a>\u001b[0m     \u001b[39mreturn\u001b[39;00m cur\n",
      "\u001b[0;31mOperationalError\u001b[0m: no such table: test",
      "\nThe above exception was the direct cause of the following exception:\n",
      "\u001b[0;31mDatabaseError\u001b[0m                             Traceback (most recent call last)",
      "Cell \u001b[0;32mIn [4], line 1\u001b[0m\n\u001b[0;32m----> 1\u001b[0m \u001b[43mpd\u001b[49m\u001b[38;5;241;43m.\u001b[39;49m\u001b[43mread_sql\u001b[49m\u001b[43m(\u001b[49m\u001b[43msql\u001b[49m\u001b[38;5;241;43m=\u001b[39;49m\u001b[38;5;124;43m'\u001b[39;49m\u001b[38;5;124;43mSELECT * FROM test LIMIT 10;\u001b[39;49m\u001b[38;5;124;43m'\u001b[39;49m\u001b[43m,\u001b[49m\u001b[43m \u001b[49m\u001b[43mcon\u001b[49m\u001b[38;5;241;43m=\u001b[39;49m\u001b[43mdb_connection\u001b[49m\u001b[43m,\u001b[49m\u001b[43m \u001b[49m\u001b[43mindex_col\u001b[49m\u001b[38;5;241;43m=\u001b[39;49m\u001b[38;5;124;43m'\u001b[39;49m\u001b[38;5;124;43mindex\u001b[39;49m\u001b[38;5;124;43m'\u001b[39;49m\u001b[43m)\u001b[49m\n",
      "File \u001b[0;32m~/Desktop/PiscinePythonDataScience/venv/lib/python3.10/site-packages/pandas/io/sql.py:567\u001b[0m, in \u001b[0;36mread_sql\u001b[0;34m(sql, con, index_col, coerce_float, params, parse_dates, columns, chunksize)\u001b[0m\n\u001b[1;32m    <a href='file:///Users/pcorina/Desktop/PiscinePythonDataScience/venv/lib/python3.10/site-packages/pandas/io/sql.py?line=563'>564</a>\u001b[0m pandas_sql \u001b[39m=\u001b[39m pandasSQL_builder(con)\n\u001b[1;32m    <a href='file:///Users/pcorina/Desktop/PiscinePythonDataScience/venv/lib/python3.10/site-packages/pandas/io/sql.py?line=565'>566</a>\u001b[0m \u001b[39mif\u001b[39;00m \u001b[39misinstance\u001b[39m(pandas_sql, SQLiteDatabase):\n\u001b[0;32m--> <a href='file:///Users/pcorina/Desktop/PiscinePythonDataScience/venv/lib/python3.10/site-packages/pandas/io/sql.py?line=566'>567</a>\u001b[0m     \u001b[39mreturn\u001b[39;00m pandas_sql\u001b[39m.\u001b[39;49mread_query(\n\u001b[1;32m    <a href='file:///Users/pcorina/Desktop/PiscinePythonDataScience/venv/lib/python3.10/site-packages/pandas/io/sql.py?line=567'>568</a>\u001b[0m         sql,\n\u001b[1;32m    <a href='file:///Users/pcorina/Desktop/PiscinePythonDataScience/venv/lib/python3.10/site-packages/pandas/io/sql.py?line=568'>569</a>\u001b[0m         index_col\u001b[39m=\u001b[39;49mindex_col,\n\u001b[1;32m    <a href='file:///Users/pcorina/Desktop/PiscinePythonDataScience/venv/lib/python3.10/site-packages/pandas/io/sql.py?line=569'>570</a>\u001b[0m         params\u001b[39m=\u001b[39;49mparams,\n\u001b[1;32m    <a href='file:///Users/pcorina/Desktop/PiscinePythonDataScience/venv/lib/python3.10/site-packages/pandas/io/sql.py?line=570'>571</a>\u001b[0m         coerce_float\u001b[39m=\u001b[39;49mcoerce_float,\n\u001b[1;32m    <a href='file:///Users/pcorina/Desktop/PiscinePythonDataScience/venv/lib/python3.10/site-packages/pandas/io/sql.py?line=571'>572</a>\u001b[0m         parse_dates\u001b[39m=\u001b[39;49mparse_dates,\n\u001b[1;32m    <a href='file:///Users/pcorina/Desktop/PiscinePythonDataScience/venv/lib/python3.10/site-packages/pandas/io/sql.py?line=572'>573</a>\u001b[0m         chunksize\u001b[39m=\u001b[39;49mchunksize,\n\u001b[1;32m    <a href='file:///Users/pcorina/Desktop/PiscinePythonDataScience/venv/lib/python3.10/site-packages/pandas/io/sql.py?line=573'>574</a>\u001b[0m     )\n\u001b[1;32m    <a href='file:///Users/pcorina/Desktop/PiscinePythonDataScience/venv/lib/python3.10/site-packages/pandas/io/sql.py?line=575'>576</a>\u001b[0m \u001b[39mtry\u001b[39;00m:\n\u001b[1;32m    <a href='file:///Users/pcorina/Desktop/PiscinePythonDataScience/venv/lib/python3.10/site-packages/pandas/io/sql.py?line=576'>577</a>\u001b[0m     _is_table_name \u001b[39m=\u001b[39m pandas_sql\u001b[39m.\u001b[39mhas_table(sql)\n",
      "File \u001b[0;32m~/Desktop/PiscinePythonDataScience/venv/lib/python3.10/site-packages/pandas/io/sql.py:2083\u001b[0m, in \u001b[0;36mSQLiteDatabase.read_query\u001b[0;34m(self, sql, index_col, coerce_float, params, parse_dates, chunksize, dtype)\u001b[0m\n\u001b[1;32m   <a href='file:///Users/pcorina/Desktop/PiscinePythonDataScience/venv/lib/python3.10/site-packages/pandas/io/sql.py?line=2070'>2071</a>\u001b[0m \u001b[39mdef\u001b[39;00m \u001b[39mread_query\u001b[39m(\n\u001b[1;32m   <a href='file:///Users/pcorina/Desktop/PiscinePythonDataScience/venv/lib/python3.10/site-packages/pandas/io/sql.py?line=2071'>2072</a>\u001b[0m     \u001b[39mself\u001b[39m,\n\u001b[1;32m   <a href='file:///Users/pcorina/Desktop/PiscinePythonDataScience/venv/lib/python3.10/site-packages/pandas/io/sql.py?line=2072'>2073</a>\u001b[0m     sql,\n\u001b[0;32m   (...)\u001b[0m\n\u001b[1;32m   <a href='file:///Users/pcorina/Desktop/PiscinePythonDataScience/venv/lib/python3.10/site-packages/pandas/io/sql.py?line=2078'>2079</a>\u001b[0m     dtype: DtypeArg \u001b[39m|\u001b[39m \u001b[39mNone\u001b[39;00m \u001b[39m=\u001b[39m \u001b[39mNone\u001b[39;00m,\n\u001b[1;32m   <a href='file:///Users/pcorina/Desktop/PiscinePythonDataScience/venv/lib/python3.10/site-packages/pandas/io/sql.py?line=2079'>2080</a>\u001b[0m ):\n\u001b[1;32m   <a href='file:///Users/pcorina/Desktop/PiscinePythonDataScience/venv/lib/python3.10/site-packages/pandas/io/sql.py?line=2081'>2082</a>\u001b[0m     args \u001b[39m=\u001b[39m _convert_params(sql, params)\n\u001b[0;32m-> <a href='file:///Users/pcorina/Desktop/PiscinePythonDataScience/venv/lib/python3.10/site-packages/pandas/io/sql.py?line=2082'>2083</a>\u001b[0m     cursor \u001b[39m=\u001b[39m \u001b[39mself\u001b[39;49m\u001b[39m.\u001b[39;49mexecute(\u001b[39m*\u001b[39;49margs)\n\u001b[1;32m   <a href='file:///Users/pcorina/Desktop/PiscinePythonDataScience/venv/lib/python3.10/site-packages/pandas/io/sql.py?line=2083'>2084</a>\u001b[0m     columns \u001b[39m=\u001b[39m [col_desc[\u001b[39m0\u001b[39m] \u001b[39mfor\u001b[39;00m col_desc \u001b[39min\u001b[39;00m cursor\u001b[39m.\u001b[39mdescription]\n\u001b[1;32m   <a href='file:///Users/pcorina/Desktop/PiscinePythonDataScience/venv/lib/python3.10/site-packages/pandas/io/sql.py?line=2085'>2086</a>\u001b[0m     \u001b[39mif\u001b[39;00m chunksize \u001b[39mis\u001b[39;00m \u001b[39mnot\u001b[39;00m \u001b[39mNone\u001b[39;00m:\n",
      "File \u001b[0;32m~/Desktop/PiscinePythonDataScience/venv/lib/python3.10/site-packages/pandas/io/sql.py:2035\u001b[0m, in \u001b[0;36mSQLiteDatabase.execute\u001b[0;34m(self, *args, **kwargs)\u001b[0m\n\u001b[1;32m   <a href='file:///Users/pcorina/Desktop/PiscinePythonDataScience/venv/lib/python3.10/site-packages/pandas/io/sql.py?line=2031'>2032</a>\u001b[0m     \u001b[39mraise\u001b[39;00m ex \u001b[39mfrom\u001b[39;00m \u001b[39minner_exc\u001b[39;00m\n\u001b[1;32m   <a href='file:///Users/pcorina/Desktop/PiscinePythonDataScience/venv/lib/python3.10/site-packages/pandas/io/sql.py?line=2033'>2034</a>\u001b[0m ex \u001b[39m=\u001b[39m DatabaseError(\u001b[39mf\u001b[39m\u001b[39m\"\u001b[39m\u001b[39mExecution failed on sql \u001b[39m\u001b[39m'\u001b[39m\u001b[39m{\u001b[39;00margs[\u001b[39m0\u001b[39m]\u001b[39m}\u001b[39;00m\u001b[39m'\u001b[39m\u001b[39m: \u001b[39m\u001b[39m{\u001b[39;00mexc\u001b[39m}\u001b[39;00m\u001b[39m\"\u001b[39m)\n\u001b[0;32m-> <a href='file:///Users/pcorina/Desktop/PiscinePythonDataScience/venv/lib/python3.10/site-packages/pandas/io/sql.py?line=2034'>2035</a>\u001b[0m \u001b[39mraise\u001b[39;00m ex \u001b[39mfrom\u001b[39;00m \u001b[39mexc\u001b[39;00m\n",
      "\u001b[0;31mDatabaseError\u001b[0m: Execution failed on sql 'SELECT * FROM test LIMIT 10;': no such table: test"
     ]
    }
   ],
   "source": [
    "pd.read_sql(sql='SELECT * FROM test LIMIT 10;', con=db_connection, index_col='index')"
   ]
  },
  {
   "cell_type": "code",
   "execution_count": null,
   "id": "94c7c760",
   "metadata": {
    "scrolled": false
   },
   "outputs": [],
   "source": [
    "pd.read_sql(sql='PRAGMA table_info(deadlines);', con=db_connection)"
   ]
  },
  {
   "cell_type": "code",
   "execution_count": null,
   "id": "4022acff",
   "metadata": {
    "scrolled": true
   },
   "outputs": [],
   "source": [
    "pd.read_sql(sql='SELECT * FROM deadlines LIMIT 10;', con=db_connection, index_col='index')"
   ]
  },
  {
   "cell_type": "code",
   "execution_count": null,
   "id": "b10eabd5",
   "metadata": {
    "scrolled": false
   },
   "outputs": [],
   "source": [
    "sql_query=\"\"\"\n",
    "SELECT\n",
    "    uid,\n",
    "    MIN(diff)\n",
    "FROM (\n",
    "    SELECT\n",
    "        test.uid,\n",
    "        test.labname,\n",
    "        CAST((julianday(test.first_commit_ts) - julianday(deadlines.deadlines, 'unixepoch')) * 24 AS INT) AS diff\n",
    "    FROM\n",
    "        test\n",
    "    INNER JOIN \n",
    "        deadlines\n",
    "    ON\n",
    "        test.labname != 'project1'\n",
    "        AND test.labname = deadlines.labs\n",
    ");\n",
    "\"\"\"\n",
    "\n",
    "df_min = pd.read_sql(sql=sql_query, con=db_connection)\n",
    "df_min"
   ]
  },
  {
   "cell_type": "code",
   "execution_count": null,
   "id": "bc5e6135",
   "metadata": {
    "scrolled": false
   },
   "outputs": [],
   "source": [
    "df_max = pd.read_sql(\"\"\"SELECT uid, MAX(diff) FROM\n",
    "                        (SELECT test.uid, test.labname,\n",
    "                        CAST((julianday(test.first_commit_ts)\n",
    "                        - julianday(deadlines.deadlines, 'unixepoch')) * 24 AS INT) AS diff \n",
    "                        FROM test INNER JOIN  deadlines ON test.labname != 'project1' \n",
    "                        AND test.labname = deadlines.labs);\"\"\",\n",
    "                        con=db_connection)\n",
    "df_max"
   ]
  },
  {
   "cell_type": "code",
   "execution_count": null,
   "id": "8e5f41b0",
   "metadata": {
    "scrolled": false
   },
   "outputs": [],
   "source": [
    "df_avg = pd.read_sql(\"\"\"SELECT AVG(diff) FROM\n",
    "             (SELECT test.uid,\n",
    "             test.labname,\n",
    "             CAST((julianday(test.first_commit_ts) - \n",
    "             julianday(deadlines.deadlines, 'unixepoch'))\n",
    "             * 24 AS INT) AS diff\n",
    "             FROM test\n",
    "             INNER JOIN  deadlines\n",
    "             ON test.labname != 'project1'\n",
    "             AND test.labname = deadlines.labs);\"\"\",\n",
    "             con=db_connection)\n",
    "df_avg"
   ]
  },
  {
   "cell_type": "code",
   "execution_count": null,
   "id": "65b21d1c",
   "metadata": {
    "scrolled": false
   },
   "outputs": [],
   "source": [
    "views_diff = pd.read_sql(\"\"\"SELECT uid, AVG(diff) AS avg_diff, COUNT(uid) as pageviews\n",
    "             FROM ( SELECT test.uid, CAST((julianday(test.first_commit_ts) -\n",
    "             julianday(deadlines.deadlines, 'unixepoch')) * 24 AS INT) AS diff\n",
    "             FROM test INNER JOIN  deadlines ON test.labname != 'project1'\n",
    "             AND test.labname = deadlines.labs) GROUP BY uid\"\"\", con=db_connection)\n",
    "views_diff"
   ]
  },
  {
   "cell_type": "code",
   "execution_count": null,
   "id": "19e0d0d4",
   "metadata": {},
   "outputs": [],
   "source": [
    "views_diff.corr()"
   ]
  },
  {
   "cell_type": "code",
   "execution_count": null,
   "id": "7848cce8",
   "metadata": {},
   "outputs": [],
   "source": [
    "db_connection.close()"
   ]
  }
 ],
 "metadata": {
  "interpreter": {
   "hash": "338bc708df94a5a88aee3c276f150fced2926bf8f8ece6066d3a7a9b57bacd53"
  },
  "kernelspec": {
   "display_name": "Python 3.10.2 ('venv': venv)",
   "language": "python",
   "name": "python3"
  },
  "language_info": {
   "codemirror_mode": {
    "name": "ipython",
    "version": 3
   },
   "file_extension": ".py",
   "mimetype": "text/x-python",
   "name": "python",
   "nbconvert_exporter": "python",
   "pygments_lexer": "ipython3",
   "version": "3.10.2"
  }
 },
 "nbformat": 4,
 "nbformat_minor": 5
}
